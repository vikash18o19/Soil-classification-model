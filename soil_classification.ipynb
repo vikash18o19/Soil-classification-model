{
  "nbformat": 4,
  "nbformat_minor": 0,
  "metadata": {
    "colab": {
      "provenance": []
    },
    "kernelspec": {
      "name": "python3",
      "display_name": "Python 3"
    },
    "language_info": {
      "name": "python"
    },
    "accelerator": "GPU",
    "gpuClass": "standard"
  },
  "cells": [
    {
      "cell_type": "code",
      "execution_count": null,
      "metadata": {
        "id": "FAc2iYcFazsR"
      },
      "outputs": [],
      "source": [
        "import os\n",
        "import re\n",
        "import cv2\n",
        "import time\n",
        "import shutil\n",
        "import zipfile\n",
        "import urllib.request\n",
        "import numpy as np\n",
        "from PIL import Image\n",
        "from os import listdir\n",
        "from os.path import isfile, join\n",
        "from random import randrange\n",
        "import matplotlib.pyplot as plt\n",
        "from tensorflow.keras.models import load_model\n",
        "from tensorflow.keras.preprocessing import image\n",
        "from tensorflow.keras.preprocessing.image import ImageDataGenerator\n",
        "from tensorflow.keras.models import Sequential\n",
        "from tensorflow.keras.layers import Dense, Activation, Flatten\n",
        "from tensorflow.keras.layers import Conv2D, MaxPooling2D"
      ]
    },
    {
      "cell_type": "code",
      "source": [
        "training_data_processor = ImageDataGenerator(\n",
        "    rescale = 1./255,\n",
        "    horizontal_flip = True,\n",
        "    zoom_range = 0.2,\n",
        "    rotation_range = 10,\n",
        "    shear_range = 0.2,\n",
        "    height_shift_range = 0.1,\n",
        "    width_shift_range = 0.1\n",
        ")\n",
        "\n",
        "test_data_processor = ImageDataGenerator(rescale = 1./255)"
      ],
      "metadata": {
        "id": "QliLr3jrhS3h"
      },
      "execution_count": null,
      "outputs": []
    },
    {
      "cell_type": "code",
      "source": [
        "train_data_dir = '/content/drive/MyDrive/Soil_Dataset/Train'\n",
        "test_data_dir = '/content/drive/MyDrive/Soil_Dataset/Test'"
      ],
      "metadata": {
        "id": "BZWEtA4IhqFr"
      },
      "execution_count": null,
      "outputs": []
    },
    {
      "cell_type": "code",
      "source": [
        "training_data = training_data_processor.flow_from_directory(\n",
        "    train_data_dir,\n",
        "    target_size=(150,150), \n",
        "    class_mode='categorical', \n",
        "    batch_size=64, \n",
        "    shuffle=True\n",
        ")\n",
        "\n",
        "testing_data = test_data_processor.flow_from_directory(\n",
        "    test_data_dir,\n",
        "    target_size=(150,150), \n",
        "    class_mode='categorical', \n",
        "    batch_size=64, \n",
        "    shuffle=False\n",
        ")"
      ],
      "metadata": {
        "colab": {
          "base_uri": "https://localhost:8080/"
        },
        "id": "hidmHYbHh12c",
        "outputId": "4fc52ca8-cb25-4637-bc22-48cc749aad98"
      },
      "execution_count": null,
      "outputs": [
        {
          "output_type": "stream",
          "name": "stdout",
          "text": [
            "Found 715 images belonging to 4 classes.\n",
            "Found 188 images belonging to 4 classes.\n"
          ]
        }
      ]
    },
    {
      "cell_type": "code",
      "source": [
        "model = Sequential()\n",
        "model.add(Conv2D(64, (3, 3), activation='relu', input_shape=(150, 150, 3)))\n",
        "model.add(MaxPooling2D((2, 2)))\n",
        "model.add(Conv2D(64, (3, 3), activation='relu'))\n",
        "model.add(MaxPooling2D((2, 2)))\n",
        "model.add(Conv2D(64, (3, 3), activation='relu'))\n",
        "\n",
        "model.add(Flatten())\n",
        "model.add(Dense(64, activation='relu'))\n",
        "model.add(Dense(4, activation='softmax'))"
      ],
      "metadata": {
        "id": "DeNABsusifgI"
      },
      "execution_count": null,
      "outputs": []
    },
    {
      "cell_type": "code",
      "source": [
        "model.summary()"
      ],
      "metadata": {
        "colab": {
          "base_uri": "https://localhost:8080/"
        },
        "id": "l-3COxHhi0e7",
        "outputId": "246bfb0f-23c2-47fe-f485-57c077df84b6"
      },
      "execution_count": null,
      "outputs": [
        {
          "output_type": "stream",
          "name": "stdout",
          "text": [
            "Model: \"sequential\"\n",
            "_________________________________________________________________\n",
            " Layer (type)                Output Shape              Param #   \n",
            "=================================================================\n",
            " conv2d (Conv2D)             (None, 148, 148, 64)      1792      \n",
            "                                                                 \n",
            " max_pooling2d (MaxPooling2D  (None, 74, 74, 64)       0         \n",
            " )                                                               \n",
            "                                                                 \n",
            " conv2d_1 (Conv2D)           (None, 72, 72, 64)        36928     \n",
            "                                                                 \n",
            " max_pooling2d_1 (MaxPooling  (None, 36, 36, 64)       0         \n",
            " 2D)                                                             \n",
            "                                                                 \n",
            " conv2d_2 (Conv2D)           (None, 34, 34, 64)        36928     \n",
            "                                                                 \n",
            " flatten (Flatten)           (None, 73984)             0         \n",
            "                                                                 \n",
            " dense (Dense)               (None, 64)                4735040   \n",
            "                                                                 \n",
            " dense_1 (Dense)             (None, 4)                 260       \n",
            "                                                                 \n",
            "=================================================================\n",
            "Total params: 4,810,948\n",
            "Trainable params: 4,810,948\n",
            "Non-trainable params: 0\n",
            "_________________________________________________________________\n"
          ]
        }
      ]
    },
    {
      "cell_type": "code",
      "source": [
        "model.compile(optimizer='adam',\n",
        "              loss='categorical_crossentropy',\n",
        "              metrics=['accuracy'])"
      ],
      "metadata": {
        "id": "tS_I0jVgi5ac"
      },
      "execution_count": null,
      "outputs": []
    },
    {
      "cell_type": "code",
      "source": [
        "start = time.time()\n",
        "\n",
        "simple_history = model.fit(training_data, epochs=20, validation_data = testing_data)\n",
        "end = time.time()\n",
        "print(\"Total train time: \",(end-start)/60,\" mins\")"
      ],
      "metadata": {
        "colab": {
          "base_uri": "https://localhost:8080/"
        },
        "id": "VuMH1D3UjBqI",
        "outputId": "15860b14-49a5-4631-f735-634fc098b746"
      },
      "execution_count": null,
      "outputs": [
        {
          "output_type": "stream",
          "name": "stdout",
          "text": [
            "Epoch 1/20\n",
            "12/12 [==============================] - 258s 21s/step - loss: 2.1419 - accuracy: 0.3105 - val_loss: 1.0039 - val_accuracy: 0.4894\n",
            "Epoch 2/20\n",
            "12/12 [==============================] - 6s 536ms/step - loss: 0.7048 - accuracy: 0.7063 - val_loss: 0.4858 - val_accuracy: 0.7766\n",
            "Epoch 3/20\n",
            "12/12 [==============================] - 7s 628ms/step - loss: 0.4101 - accuracy: 0.8252 - val_loss: 0.7180 - val_accuracy: 0.7660\n",
            "Epoch 4/20\n",
            "12/12 [==============================] - 6s 515ms/step - loss: 0.3176 - accuracy: 0.8545 - val_loss: 0.3672 - val_accuracy: 0.8351\n",
            "Epoch 5/20\n",
            "12/12 [==============================] - 7s 611ms/step - loss: 0.2871 - accuracy: 0.8713 - val_loss: 0.7063 - val_accuracy: 0.7394\n",
            "Epoch 6/20\n",
            "12/12 [==============================] - 6s 520ms/step - loss: 0.2246 - accuracy: 0.9049 - val_loss: 0.4130 - val_accuracy: 0.8511\n",
            "Epoch 7/20\n",
            "12/12 [==============================] - 7s 616ms/step - loss: 0.2165 - accuracy: 0.9175 - val_loss: 0.6967 - val_accuracy: 0.8085\n",
            "Epoch 8/20\n",
            "12/12 [==============================] - 7s 580ms/step - loss: 0.3003 - accuracy: 0.8685 - val_loss: 0.3555 - val_accuracy: 0.8617\n",
            "Epoch 9/20\n",
            "12/12 [==============================] - 7s 541ms/step - loss: 0.2061 - accuracy: 0.9231 - val_loss: 0.4154 - val_accuracy: 0.8883\n",
            "Epoch 10/20\n",
            "12/12 [==============================] - 8s 662ms/step - loss: 0.2040 - accuracy: 0.9217 - val_loss: 0.4483 - val_accuracy: 0.8511\n",
            "Epoch 11/20\n",
            "12/12 [==============================] - 7s 538ms/step - loss: 0.1547 - accuracy: 0.9343 - val_loss: 0.3879 - val_accuracy: 0.8830\n",
            "Epoch 12/20\n",
            "12/12 [==============================] - 7s 625ms/step - loss: 0.1550 - accuracy: 0.9455 - val_loss: 0.9278 - val_accuracy: 0.8404\n",
            "Epoch 13/20\n",
            "12/12 [==============================] - 6s 530ms/step - loss: 0.1803 - accuracy: 0.9301 - val_loss: 0.2546 - val_accuracy: 0.9255\n",
            "Epoch 14/20\n",
            "12/12 [==============================] - 8s 681ms/step - loss: 0.1833 - accuracy: 0.9161 - val_loss: 0.2538 - val_accuracy: 0.9149\n",
            "Epoch 15/20\n",
            "12/12 [==============================] - 6s 518ms/step - loss: 0.1626 - accuracy: 0.9273 - val_loss: 0.4256 - val_accuracy: 0.8883\n",
            "Epoch 16/20\n",
            "12/12 [==============================] - 7s 617ms/step - loss: 0.1865 - accuracy: 0.9273 - val_loss: 0.2855 - val_accuracy: 0.9415\n",
            "Epoch 17/20\n",
            "12/12 [==============================] - 6s 560ms/step - loss: 0.1721 - accuracy: 0.9231 - val_loss: 0.3217 - val_accuracy: 0.9202\n",
            "Epoch 18/20\n",
            "12/12 [==============================] - 7s 621ms/step - loss: 0.1403 - accuracy: 0.9483 - val_loss: 0.2370 - val_accuracy: 0.9362\n",
            "Epoch 19/20\n",
            "12/12 [==============================] - 6s 525ms/step - loss: 0.1478 - accuracy: 0.9510 - val_loss: 0.3662 - val_accuracy: 0.9043\n",
            "Epoch 20/20\n",
            "12/12 [==============================] - 7s 628ms/step - loss: 0.1029 - accuracy: 0.9622 - val_loss: 0.3438 - val_accuracy: 0.9309\n",
            "Total train time:  6.725597258408865  mins\n"
          ]
        }
      ]
    },
    {
      "cell_type": "code",
      "source": [
        "score = model.evaluate_generator(testing_data)\n",
        "print('Test loss:', score[0])\n",
        "print('Test accuracy:', score[1])"
      ],
      "metadata": {
        "colab": {
          "base_uri": "https://localhost:8080/"
        },
        "id": "WAk1Iftjl5nv",
        "outputId": "d3da4cc0-8ecd-4b24-b200-4cb142b7eff2"
      },
      "execution_count": null,
      "outputs": [
        {
          "output_type": "stream",
          "name": "stderr",
          "text": [
            "<ipython-input-10-0555d712d68d>:1: UserWarning: `Model.evaluate_generator` is deprecated and will be removed in a future version. Please use `Model.evaluate`, which supports generators.\n",
            "  score = model.evaluate_generator(testing_data)\n"
          ]
        },
        {
          "output_type": "stream",
          "name": "stdout",
          "text": [
            "Test loss: 0.34376809000968933\n",
            "Test accuracy: 0.9308510422706604\n"
          ]
        }
      ]
    },
    {
      "cell_type": "code",
      "source": [
        "from sklearn.metrics import classification_report, confusion_matrix\n",
        "from mlxtend.plotting import plot_confusion_matrix"
      ],
      "metadata": {
        "id": "vAs_y3KvmVhn"
      },
      "execution_count": null,
      "outputs": []
    },
    {
      "cell_type": "code",
      "source": [
        "num_of_test_samples = 188 \n",
        "Y_pred = model.predict_generator(testing_data, num_of_test_samples) \n",
        "y_pred = np.argmax(Y_pred, axis=1)\n",
        "cm = confusion_matrix(testing_data.classes, y_pred)\n",
        "print('Confusion Matrix')\n",
        "print(simple_cm)\n",
        "print('Classification Report')\n",
        "target_names = ['Alluvial_Soil', 'Black_Soil', 'Clay_Soil', 'Red_Soil']\n",
        "print(classification_report(testing_data.classes, y_pred, target_names=target_names))"
      ],
      "metadata": {
        "colab": {
          "base_uri": "https://localhost:8080/"
        },
        "id": "PDCQ2FVLmH18",
        "outputId": "50bd016d-69f7-4832-d621-6d6c0be258fb"
      },
      "execution_count": null,
      "outputs": [
        {
          "output_type": "stream",
          "name": "stderr",
          "text": [
            "<ipython-input-13-3373f0b20c27>:2: UserWarning: `Model.predict_generator` is deprecated and will be removed in a future version. Please use `Model.predict`, which supports generators.\n",
            "  Y_pred = model.predict_generator(testing_data, num_of_test_samples)\n",
            "WARNING:tensorflow:Your input ran out of data; interrupting training. Make sure that your dataset or generator can generate at least `steps_per_epoch * epochs` batches (in this case, 188 batches). You may need to use the repeat() function when building your dataset.\n"
          ]
        },
        {
          "output_type": "stream",
          "name": "stdout",
          "text": [
            "Confusion Matrix\n",
            "[[40  1  6  1]\n",
            " [ 3 42  2  0]\n",
            " [ 0  0 47  0]\n",
            " [ 0  0  0 46]]\n",
            "Classification Report\n",
            "               precision    recall  f1-score   support\n",
            "\n",
            "Alluvial_Soil       0.93      0.83      0.88        48\n",
            "   Black_Soil       0.98      0.89      0.93        47\n",
            "    Clay_Soil       0.85      1.00      0.92        47\n",
            "     Red_Soil       0.98      1.00      0.99        46\n",
            "\n",
            "     accuracy                           0.93       188\n",
            "    macro avg       0.94      0.93      0.93       188\n",
            " weighted avg       0.93      0.93      0.93       188\n",
            "\n"
          ]
        }
      ]
    },
    {
      "cell_type": "code",
      "source": [
        "plt.plot(simple_history.history[\"accuracy\"])\n",
        "plt.plot(simple_history.history['val_accuracy'])\n",
        "plt.title(\"CNN Accuracy on Test Data\")\n",
        "plt.ylabel(\"Accuracy\")\n",
        "plt.xlabel(\"Epoch\")\n",
        "plt.legend([\"accuracy\",\"val_accuracy\"], loc='lower right')\n",
        "plt.show()"
      ],
      "metadata": {
        "colab": {
          "base_uri": "https://localhost:8080/",
          "height": 295
        },
        "id": "ZGTGBBBpmkvo",
        "outputId": "b192ec8e-d074-4952-a3d3-eda6a9527ec1"
      },
      "execution_count": null,
      "outputs": [
        {
          "output_type": "display_data",
          "data": {
            "text/plain": [
              "<Figure size 432x288 with 1 Axes>"
            ],
            "image/png": "[encoded data removed]"
          },
          "metadata": {
            "needs_background": "light"
          }
        }
      ]
    },
    {
      "cell_type": "code",
      "source": [
        "plt.plot(simple_history.history[\"loss\"])\n",
        "plt.plot(simple_history.history['val_loss'])\n",
        "plt.title(\"CNN Performance on Test Data\")\n",
        "plt.ylabel(\"Loss\")\n",
        "plt.xlabel(\"Epoch\")\n",
        "plt.legend([\"loss\",\"val_loss\"], loc='upper right')\n",
        "plt.show()"
      ],
      "metadata": {
        "colab": {
          "base_uri": "https://localhost:8080/",
          "height": 295
        },
        "id": "rfHxyMoim5gY",
        "outputId": "a9e0f71e-b3f1-4fe9-d091-d30fb6e1725f"
      },
      "execution_count": null,
      "outputs": [
        {
          "output_type": "display_data",
          "data": {
            "text/plain": [
              "<Figure size 432x288 with 1 Axes>"
            ],
            "image/png": "[encoded data removed]"
          },
          "metadata": {
            "needs_background": "light"
          }
        }
      ]
    },
    {
      "cell_type": "code",
      "source": [
        "MODEL_NAME = 'soil'\n",
        "model.save(f'{MODEL_NAME}.h5')"
      ],
      "metadata": {
        "id": "KgmpaPFim_mL"
      },
      "execution_count": null,
      "outputs": []
    }
  ]
}